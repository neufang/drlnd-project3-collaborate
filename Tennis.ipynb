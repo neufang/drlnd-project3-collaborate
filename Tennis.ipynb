{
 "cells": [
  {
   "cell_type": "markdown",
   "metadata": {},
   "source": [
    "# Collaboration and Competition\n",
    "\n",
    "---\n",
    "\n",
    "You are welcome to use this coding environment to train your agent for the project.  Follow the instructions below to get started!\n",
    "\n",
    "### 1. Start the Environment\n"
   ]
  },
  {
   "cell_type": "markdown",
   "metadata": {},
   "source": [
    "The environment is already saved in the Workspace and can be accessed at the file path provided below. "
   ]
  },
  {
   "cell_type": "code",
   "execution_count": 4,
   "metadata": {},
   "outputs": [
    {
     "name": "stderr",
     "output_type": "stream",
     "text": [
      "INFO:unityagents:\n",
      "'Academy' started successfully!\n",
      "Unity Academy name: Academy\n",
      "        Number of Brains: 1\n",
      "        Number of External Brains : 1\n",
      "        Lesson number : 0\n",
      "        Reset Parameters :\n",
      "\t\t\n",
      "Unity brain name: TennisBrain\n",
      "        Number of Visual Observations (per agent): 0\n",
      "        Vector Observation space type: continuous\n",
      "        Vector Observation space size (per agent): 8\n",
      "        Number of stacked Vector Observation: 3\n",
      "        Vector Action space type: continuous\n",
      "        Vector Action space size (per agent): 2\n",
      "        Vector Action descriptions: , \n"
     ]
    }
   ],
   "source": [
    "from unityagents import UnityEnvironment\n",
    "import numpy as np\n",
    "\n",
    "env = UnityEnvironment(file_name=\"/home/fang/projects/udacity-deep-reinforcement-learning/p3_collab-compet/Tennis_Linux/Tennis.x86_64\")"
   ]
  },
  {
   "cell_type": "markdown",
   "metadata": {},
   "source": [
    "Environments contain **_brains_** which are responsible for deciding the actions of their associated agents. Here we check for the first brain available, and set it as the default brain we will be controlling from Python."
   ]
  },
  {
   "cell_type": "code",
   "execution_count": 5,
   "metadata": {},
   "outputs": [],
   "source": [
    "# get the default brain\n",
    "brain_name = env.brain_names[0]\n",
    "brain = env.brains[brain_name]"
   ]
  },
  {
   "cell_type": "markdown",
   "metadata": {},
   "source": [
    "### 2. Examine the State and Action Spaces\n",
    "\n",
    "Run the code cell below to print some information about the environment."
   ]
  },
  {
   "cell_type": "code",
   "execution_count": 6,
   "metadata": {},
   "outputs": [
    {
     "name": "stdout",
     "output_type": "stream",
     "text": [
      "Number of agents: 2\n",
      "Size of each action: 2\n",
      "There are 2 agents. Each observes a state with length: 24\n",
      "The state for the first agent looks like: [ 0.          0.          0.          0.          0.          0.\n",
      "  0.          0.          0.          0.          0.          0.\n",
      "  0.          0.          0.          0.         -6.65278625 -1.5\n",
      " -0.          0.          6.83172083  6.         -0.          0.        ]\n"
     ]
    }
   ],
   "source": [
    "# reset the environment\n",
    "env_info = env.reset(train_mode=True)[brain_name]\n",
    "\n",
    "# number of agents\n",
    "num_agents = len(env_info.agents)\n",
    "print('Number of agents:', num_agents)\n",
    "\n",
    "# size of each action\n",
    "action_size = brain.vector_action_space_size\n",
    "print('Size of each action:', action_size)\n",
    "\n",
    "# examine the state space \n",
    "states = env_info.vector_observations\n",
    "state_size = states.shape[1]\n",
    "print('There are {} agents. Each observes a state with length: {}'.format(states.shape[0], state_size))\n",
    "print('The state for the first agent looks like:', states[0])"
   ]
  },
  {
   "cell_type": "markdown",
   "metadata": {},
   "source": [
    "### Algorithm description\n",
    "\n",
    "The training of action-critic algorithm iterates the following flow:\n",
    "\n",
    "* Gerante the experience tuples from interaction of agent to environment and save to a common replay buffer\n",
    "* Sample a batch from replay buffer for learning (if the replay buffer is large enough)\n",
    "* Update the critic:\n",
    "    1. Get the action by feeding state into target actor \n",
    "    2. Get the action-value of next state/next action pair `Q_next`\n",
    "    3. Update the 'actual' Q value for the current state/action pair as $Q\\_current = r + \\gamma*Q\\_next$\n",
    "    4. Feed the current state and current action into the local critic to get `Q_pred`\n",
    "    5. Compute the MSE loss between `Q_current` and `Q_predicted`, and update the weights of the local critic\n",
    "* Update the actor:\n",
    "    1. Get the predicted actions for the current states based on the local actor\n",
    "    2. Get the `Q-values` (expected reward) of these by passing the current states and predicted actions through the local critic\n",
    "    3. Use the negative mean of the `Q-values` as a loss to update the weights of the local actor\n",
    "    4. Update the actor and critic target network weights with soft update\n",
    "    \n",
    "Actor model:\n",
    "```\n",
    "layer1: Linear(in_features=33, out_features=400, bias=True) with activation relu\n",
    "layer2: Linear(in_features=400, out_features=300, bias=True) with activation relu\n",
    "layer3: Linear(in_features=200, out_features=4, bias=True) with activation tanh\n",
    "```\n",
    "\n",
    "Critic model:\n",
    "```\n",
    "layer1: Linear(in_features=33, out_features=400, bias=True) \n",
    "layer2: Linear(in_features=400, out_features=300, bias=True)\n",
    "layer3: Linear(in_features=200, out_features=1, bias=True) with activation relu\n",
    "```"
   ]
  },
  {
   "cell_type": "code",
   "execution_count": 7,
   "metadata": {},
   "outputs": [],
   "source": [
    "from ddpg_agents import Agents\n",
    "from collections import deque\n",
    "import torch\n",
    "import os\n",
    "brain_name = env.brain_names[0]\n",
    "brain = env.brains[brain_name]\n",
    "\n",
    "# reset the environment\n",
    "env_info = env.reset(train_mode=True)[brain_name]\n",
    "num_agents = len(env_info.agents)\n",
    "action_size = brain.vector_action_space_size \n",
    "state_size = env_info.vector_observations.shape[1]\n",
    "\n",
    "\n",
    "def multi_ddpg(agents, max_t = 1000, n_episodes=600):\n",
    "    \"\"\" Deep Deterministic Policy Gradient for two agents\"\"\"\n",
    "    print_every = 100\n",
    "\n",
    "    scores_deque = deque(maxlen=print_every)\n",
    "    scores = []\n",
    "    mean_scores = []\n",
    "    threshold = 0.5\n",
    "    actor_local = None\n",
    "    critic_local = None\n",
    "    for i_episode in range(1, n_episodes+1):\n",
    "        env_info = env.reset(train_mode=True)[brain_name]\n",
    "        states = env_info.vector_observations\n",
    "\n",
    "        agents.reset() # set the noise to zero\n",
    "        score = np.zeros(num_agents)\n",
    "        \n",
    "        for t in range(max_t):\n",
    "            # choose actions\n",
    "            actions = agents.act(states) \n",
    "            env_info = env.step(actions)[brain_name]\n",
    "            next_states = env_info.vector_observations             \n",
    "            rewards = env_info.rewards                              \n",
    "            dones = env_info.local_done                            \n",
    "            # take action \n",
    "            agents.step(states, actions, rewards, next_states, dones)\n",
    "            states = next_states\n",
    "            score += rewards\n",
    "            if np.any(dones):\n",
    "                break\n",
    "\n",
    "        scores_deque.append(np.max(score)) \n",
    "        scores.append(np.max(score))\n",
    "        print('\\rEpisode {}\\tAverage Score: {:.3f}'.format(i_episode, np.mean(scores_deque)), end=\"\")\n",
    "        if i_episode % print_every == 0:\n",
    "            print('\\rEpisode {}\\tAverage Score: {:.2f}'.format(i_episode, np.mean(scores_deque)))\n",
    "\n",
    "        mean_score = np.mean(scores_deque)\n",
    "        mean_scores.append(mean_score)\n",
    "        if mean_score > threshold:\n",
    "            actor_local = agents.actor_local.state_dict()\n",
    "            critic_local = agents.critic_local.state_dict()\n",
    "            break\n",
    "            \n",
    "    torch.save(actor_local, 'checkpoint_actor.pth')\n",
    "    torch.save(critic_local, 'checkpoint_critic.pth')\n",
    "    return scores, mean_scores"
   ]
  },
  {
   "cell_type": "markdown",
   "metadata": {},
   "source": [
    "### Train the agent\n",
    "Parameters:\n",
    " \n",
    " ```buffer_size=int(1e5), batch_size=128, gamma = 0.99, tau = 0.02,\n",
    " lr_actor=1e-3, lr_critic=1e-3, weight_decay=0```"
   ]
  },
  {
   "cell_type": "code",
   "execution_count": 8,
   "metadata": {
    "scrolled": true
   },
   "outputs": [
    {
     "name": "stdout",
     "output_type": "stream",
     "text": [
      "Episode 100\tAverage Score: 0.016\n",
      "Episode 200\tAverage Score: 0.035\n",
      "Episode 297\tAverage Score: 0.514"
     ]
    }
   ],
   "source": [
    "agent = Agents(state_size=state_size, action_size=action_size, num_agents=num_agents, random_seed=12)\n",
    "scores, mean_scores = multi_ddpg(agent)"
   ]
  },
  {
   "cell_type": "code",
   "execution_count": 16,
   "metadata": {},
   "outputs": [
    {
     "data": {
      "image/png": "[encoded data removed]",
      "text/plain": [
       "<Figure size 432x288 with 1 Axes>"
      ]
     },
     "metadata": {
      "needs_background": "light"
     },
     "output_type": "display_data"
    }
   ],
   "source": [
    "import matplotlib.pyplot as plt\n",
    "%matplotlib inline\n",
    "def show_plot(scores, mean_scores):\n",
    "    fig = plt.figure()\n",
    "    ax = fig.add_subplot(111)\n",
    "    p1 = plt.plot(np.arange(len(scores)), scores)\n",
    "    p2 = plt.plot(np.arange(len(scores)), mean_scores)\n",
    "    plt.legend((p1[0], p2[0]), ('score', 'mean score'))\n",
    "\n",
    "    plt.xlabel('Episode #')\n",
    "    plt.show()\n",
    "show_plot(scores, mean_scores)"
   ]
  },
  {
   "cell_type": "code",
   "execution_count": 7,
   "metadata": {},
   "outputs": [
    {
     "name": "stdout",
     "output_type": "stream",
     "text": [
      "Score: 0.5000000074505806\n"
     ]
    }
   ],
   "source": [
    "# Watch how the trained Agent performs in the environment\n",
    "agent = Agents(state_size=state_size, action_size=action_size, num_agents=num_agents, random_seed=12)\n",
    "agent.actor_local.load_state_dict(torch.load('checkpoint_actor.pth'))\n",
    "agent.critic_local.load_state_dict(torch.load('checkpoint_critic.pth'))\n",
    "env_info = env.reset(train_mode=False)[brain_name] # reset the environment\n",
    "state = env_info.vector_observations            # get the current state\n",
    "score = 0                                          # initialize the score\n",
    "while True:\n",
    "    action = agent.act(state)       # select an action\n",
    "    env_info = env.step(action)[brain_name]        # send the action to the environment\n",
    "    next_state = env_info.vector_observations   # get the next state\n",
    "    reward = env_info.rewards[0]                   # get the reward\n",
    "    done = env_info.local_done[0]                  # see if episode has finished\n",
    "    score += reward                                # update the score\n",
    "    state = next_state                             # roll over the state to next time step\n",
    "    if done:                                       # exit loop if episode finished\n",
    "        break\n",
    "    \n",
    "print(\"Score: {}\".format(score))"
   ]
  },
  {
   "cell_type": "markdown",
   "metadata": {},
   "source": [
    "### Future work\n",
    "* The performance of DDPG decreases after some episode of training. Better model is needed for stable training and learning.\n",
    "* The Grid search for hyperparameter is not so efficient. One idea is to use bayesian parameter estimation, search for a optimal hyperparameter distribution instead of trying each hyperparameter combination"
   ]
  }
 ],
 "metadata": {
  "kernelspec": {
   "display_name": "drlnd2",
   "language": "python",
   "name": "drlnd2"
  },
  "language_info": {
   "codemirror_mode": {
    "name": "ipython",
    "version": 3
   },
   "file_extension": ".py",
   "mimetype": "text/x-python",
   "name": "python",
   "nbconvert_exporter": "python",
   "pygments_lexer": "ipython3",
   "version": "3.6.8"
  },
  "toc": {
   "base_numbering": 1,
   "nav_menu": {},
   "number_sections": true,
   "sideBar": true,
   "skip_h1_title": false,
   "title_cell": "Table of Contents",
   "title_sidebar": "Contents",
   "toc_cell": false,
   "toc_position": {},
   "toc_section_display": true,
   "toc_window_display": false
  }
 },
 "nbformat": 4,
 "nbformat_minor": 2
}
